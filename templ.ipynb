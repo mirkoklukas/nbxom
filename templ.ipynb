{
 "cells": [
  {
   "cell_type": "code",
   "execution_count": null,
   "metadata": {},
   "outputs": [],
   "source": [
    "#export\n",
    "from pathlib import Path\n",
    "import jinja2, jinja2.meta as meta\n",
    "\n",
    "def get_templ_args(path):\n",
    "    path = Path(path)\n",
    "    loader = jinja2.FileSystemLoader(searchpath=str(path.parent))\n",
    "    env = jinja2.Environment(loader=loader)\n",
    "\n",
    "    src = env.loader.get_source(env, path.name)[0]\n",
    "    parsed = env.parse(src)\n",
    "    args = meta.find_undeclared_variables(parsed)\n",
    "\n",
    "    return args\n",
    "\n",
    "def render_templ(path, vars):\n",
    "    path = Path(path)\n",
    "    loader = jinja2.FileSystemLoader(searchpath=str(path.parent))\n",
    "    env    = jinja2.Environment(loader=loader)\n",
    "\n",
    "    template = env.get_template(path.name)\n",
    "    text = template.render(vars)  \n",
    "    return text\n",
    "\n",
    "\n",
    "def create_file_from_template(tpath, fpath, vars):\n",
    "    script_src = render_templ(tpath, vars)\n",
    "\n",
    "    with open(fpath, \"w\", newline=\"\\n\") as f:\n",
    "            f.write(script_src)\n",
    "\n",
    "def render_template_from_string(s, vars):\n",
    "    template = jinja2.Environment(loader=jinja2.BaseLoader()).from_string(s)\n",
    "    return template.render(vars)\n"
   ]
  },
  {
   "cell_type": "code",
   "execution_count": null,
   "metadata": {},
   "outputs": [
    {
     "data": {
      "text/plain": [
       "{'args', 'func_body', 'name', 'sweep_args'}"
      ]
     },
     "execution_count": null,
     "metadata": {},
     "output_type": "execute_result"
    }
   ],
   "source": [
    "get_templ_args(\"nbx/templates/experiment.tpl\")"
   ]
  },
  {
   "cell_type": "markdown",
   "metadata": {},
   "source": [
    "# Export"
   ]
  },
  {
   "cell_type": "code",
   "execution_count": null,
   "metadata": {},
   "outputs": [
    {
     "name": "stdout",
     "output_type": "stream",
     "text": [
      "Converted om.ipynb.\n",
      "Converted pspace.ipynb.\n",
      "Converted templ.ipynb.\n"
     ]
    }
   ],
   "source": [
    "#default_exp templ\n",
    "from nbdev.export import notebook2script\n",
    "notebook2script()"
   ]
  },
  {
   "cell_type": "code",
   "execution_count": null,
   "metadata": {},
   "outputs": [],
   "source": []
  }
 ],
 "metadata": {
  "kernelspec": {
   "display_name": "Python 3",
   "language": "python",
   "name": "python3"
  }
 },
 "nbformat": 4,
 "nbformat_minor": 2
}
