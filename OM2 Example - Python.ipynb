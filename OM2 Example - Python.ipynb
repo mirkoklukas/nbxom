{
 "cells": [
  {
   "cell_type": "code",
   "execution_count": null,
   "metadata": {},
   "outputs": [],
   "source": [
    "%matplotlib inline\n",
    "%load_ext autoreload\n",
    "%autoreload 2"
   ]
  },
  {
   "cell_type": "code",
   "execution_count": null,
   "metadata": {},
   "outputs": [],
   "source": [
    "#nbx\n",
    "#xarg\n",
    "task_id = 0\n",
    "#xarg\n",
    "results_dir = \".\""
   ]
  },
  {
   "cell_type": "code",
   "execution_count": null,
   "metadata": {},
   "outputs": [],
   "source": [
    "#nbx\n",
    "\n",
    "#xarg\n",
    "x=0; range(5)\n",
    "\n",
    "#xarg\n",
    "y=0; [0,1,2,4]\n",
    "\n",
    "z=0;\n",
    "\n",
    "# ..."
   ]
  },
  {
   "cell_type": "code",
   "execution_count": null,
   "metadata": {},
   "outputs": [
    {
     "name": "stdout",
     "output_type": "stream",
     "text": [
      "** Creating Experment script **\n",
      "Creating... EXAMPLE_BUNDLE/experiment.py \n",
      "\tfrom experiment_py.tpl\n",
      "Number of params: 20\n",
      "{'num_jobs': 20, 'target_dir': './EXAMPLE_BUNDLE', 'lang': 'py'}\n",
      "Creating om ... files...\n",
      "\tfrom /Users/mirko/Workspace/nbx/nbx/templates\n",
      "Creating... EXAMPLE_BUNDLE/job.sh \n",
      "\tfrom job_py.tpl\n",
      "\n",
      "** Instructions: **\n",
      "    Copy to remote, run, and pull the results:\n",
      "    - `!scp -r ./EXAMPLE_BUNDLE $om:$omx`\n",
      "    - `!ssh $om sbatch -D $omx/./EXAMPLE_BUNDLE $omx/./EXAMPLE_BUNDLE/run.sh`\n",
      "    - `!scp -r $om:$omx/./EXAMPLE_BUNDLE/results/* ./results`\n",
      "\n",
      "    For this to work you have to set a few environment variables...\n",
      "\n"
     ]
    }
   ],
   "source": [
    "from nbx.om2 import create_om_files, create_experiment_script\n",
    "\n",
    "info = create_experiment_script(\n",
    "    nbname=\"OM2 Example - Python.ipynb\", \n",
    "    target_dir=\"./EXAMPLE_BUNDLE\", \n",
    "    lang=\"py\" )\n",
    "\n",
    "create_om_files(\n",
    "    **info,\n",
    "    simg=\"pytorch.simg\",\n",
    "    job_header={\n",
    "        \"--time\": \"01:20:00\",\n",
    "        \"--partition\": \"fiete\",\n",
    "        \"--mem\": \"32gb\",\n",
    "        \"--cpus-per-task\": 20,\n",
    "        \"--mail-user\": \"me@somewhere.com\"})"
   ]
  },
  {
   "cell_type": "code",
   "execution_count": null,
   "metadata": {},
   "outputs": [
    {
     "name": "stdout",
     "output_type": "stream",
     "text": [
      "/Users/mirko/Workspace/nbx\n",
      "CONTRIBUTING.md            \u001b[34mdocs\u001b[m\u001b[m\n",
      "\u001b[34mEXAMPLE_BUNDLE\u001b[m\u001b[m             index.ipynb\n",
      "LICENSE                    \u001b[34mnbx\u001b[m\u001b[m\n",
      "MANIFEST.in                \u001b[34mnbx.egg-info\u001b[m\u001b[m\n",
      "Makefile                   om.ipynb\n",
      "OM2 Example - Python.ipynb om2.ipynb\n",
      "README.md                  pspace.ipynb\n",
      "Test.ipynb                 settings.ini\n",
      "Test_jl.ipynb              setup.py\n",
      "\u001b[34mbuild\u001b[m\u001b[m                      templ.ipynb\n",
      "\u001b[34mdist\u001b[m\u001b[m                       your_file.txt\n"
     ]
    }
   ],
   "source": [
    "!pwd\n",
    "!ls"
   ]
  },
  {
   "cell_type": "code",
   "execution_count": null,
   "metadata": {},
   "outputs": [
    {
     "name": "stdout",
     "output_type": "stream",
     "text": [
      "**nbx**\r\n",
      "Calling main...\r\n",
      "\ty: 4\r\n",
      "\tx: 4\r\n",
      "\tresults_dir: _EXAMPLE_BUNDLE/results/0\r\n",
      "\ttask_id: 0\r\n",
      "\r\n",
      "**nbx**\r\n",
      "Experiment finished.\r\n"
     ]
    }
   ],
   "source": [
    "!python ./_EXAMPLE_BUNDLE/experiment.py"
   ]
  },
  {
   "cell_type": "code",
   "execution_count": null,
   "metadata": {},
   "outputs": [
    {
     "name": "stdout",
     "output_type": "stream",
     "text": [
      "ssh: connect to host openmind7.mit.edu port 22: Connection refused\r",
      "\r\n",
      "lost connection\r\n"
     ]
    }
   ],
   "source": [
    "!scp -r ./_EXAMPLE_BUNDLE $om:$omx"
   ]
  },
  {
   "cell_type": "code",
   "execution_count": null,
   "metadata": {},
   "outputs": [],
   "source": [
    "!ssh $om sbatch -D $omx/./_EXAMPLE_BUNDLE $omx/./_EXAMPLE_BUNDLE/run.sh"
   ]
  },
  {
   "cell_type": "code",
   "execution_count": null,
   "metadata": {},
   "outputs": [],
   "source": [
    "!scp -r $om:$omx/./_EXAMPLE_BUNDLE/results/* ./results"
   ]
  }
 ],
 "metadata": {
  "kernelspec": {
   "display_name": "Python 3",
   "language": "python",
   "name": "python3"
  }
 },
 "nbformat": 4,
 "nbformat_minor": 2
}
