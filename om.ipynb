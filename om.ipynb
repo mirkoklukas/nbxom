{
 "cells": [
  {
   "cell_type": "code",
   "execution_count": null,
   "metadata": {},
   "outputs": [],
   "source": [
    "%matplotlib inline\n",
    "%load_ext autoreload\n",
    "%autoreload 2"
   ]
  },
  {
   "cell_type": "code",
   "execution_count": null,
   "metadata": {},
   "outputs": [],
   "source": [
    "from nbdev.export import notebook2script\n",
    "# from nbdev.imports import create_config\n",
    "# create_config(\"nbx\", user='mirkoklukas',\n",
    "#               git_url=\"https://github.com/mirkoklukas/nbx/tree/master/\",\n",
    "#               lib_path = 'nbx',\n",
    "#               path='.',\n",
    "#               nbs_path = '.' , tst_flags='tst', cfg_name='settings.ini')"
   ]
  },
  {
   "cell_type": "code",
   "execution_count": null,
   "metadata": {},
   "outputs": [],
   "source": [
    "#default_exp om\n",
    "notebook2script()"
   ]
  },
  {
   "cell_type": "code",
   "execution_count": null,
   "metadata": {},
   "outputs": [
    {
     "name": "stdout",
     "output_type": "stream",
     "text": [
      "/om2/user/mklukas/nbx-experiments\n",
      "mklukas@openmind7.mit.edu\n",
      "mklukas@openmind7.mit.edu\n"
     ]
    }
   ],
   "source": [
    "import os\n",
    "print(os.environ['omx'])\n",
    "print(os.environ['om'])\n",
    "print(os.environ['om'])"
   ]
  },
  {
   "cell_type": "markdown",
   "metadata": {},
   "source": [
    "# Parsing the notebook"
   ]
  },
  {
   "cell_type": "markdown",
   "metadata": {},
   "source": [
    "## Finding tags, filter cells"
   ]
  },
  {
   "cell_type": "code",
   "execution_count": null,
   "metadata": {},
   "outputs": [],
   "source": [
    "#export\n",
    "import re\n",
    "_re_tag = re.compile(r\"^\\s*#([a-zA-Z_]+).*$\")"
   ]
  },
  {
   "cell_type": "code",
   "execution_count": null,
   "metadata": {},
   "outputs": [],
   "source": [
    "#export\n",
    "def extract_tag(line):\n",
    "    \"\"\"Returns the name of a tag (#name), if it \n",
    "    occurs at the beginning of the line, or None.\"\"\"\n",
    "    m = _re_tag.match(line)\n",
    "    if m is not None: return m.group(1)\n",
    "    else: return None"
   ]
  },
  {
   "cell_type": "code",
   "execution_count": null,
   "metadata": {},
   "outputs": [],
   "source": [
    "assert extract_tag(\"#nbx \") == \"nbx\"\n",
    "assert extract_tag(\"#nbx  something else \") == \"nbx\"\n",
    "assert extract_tag(\"# nbx something else \") == None\n",
    "assert extract_tag(\"#xarg \") == \"xarg\""
   ]
  },
  {
   "cell_type": "code",
   "execution_count": null,
   "metadata": {},
   "outputs": [],
   "source": [
    "#export\n",
    "def contains_tag(name):\n",
    "    return lambda line: extract_tag(line) == name\n",
    "\n",
    "is_nbx = contains_tag(\"nbx\")"
   ]
  },
  {
   "cell_type": "code",
   "execution_count": null,
   "metadata": {},
   "outputs": [],
   "source": [
    "assert is_nbx(\"#nbx\") \n",
    "assert is_nbx(\"# nbx\") == False\n",
    "assert is_nbx(\" #nbx\") \n",
    "assert is_nbx(\"  #nbx\") "
   ]
  },
  {
   "cell_type": "code",
   "execution_count": null,
   "metadata": {},
   "outputs": [],
   "source": [
    "#export \n",
    "def is_nbx_cell(cell):\n",
    "    if cell['cell_type'] != 'code': return False\n",
    "    if not cell['source']: return False\n",
    "    line0 = cell['source'][0]\n",
    "    return is_nbx(line0)"
   ]
  },
  {
   "cell_type": "markdown",
   "metadata": {},
   "source": [
    "When we create our python script we need to exclude jupyter's *magic* functions and shell commands that can beused in a code cell."
   ]
  },
  {
   "cell_type": "code",
   "execution_count": null,
   "metadata": {},
   "outputs": [],
   "source": [
    "#export\n",
    "_re_magic =  re.compile(r\"^\\s*%{1,2}|^\\s*!\")"
   ]
  },
  {
   "cell_type": "code",
   "execution_count": null,
   "metadata": {},
   "outputs": [],
   "source": [
    "#export\n",
    "def is_magic_or_shell(line):\n",
    "    m = _re_magic.match(line)\n",
    "    return m is not None"
   ]
  },
  {
   "cell_type": "code",
   "execution_count": null,
   "metadata": {},
   "outputs": [],
   "source": [
    "assert is_magic_or_shell(\"%pwd \")\n",
    "assert is_magic_or_shell(\"%%capture \")\n",
    "assert is_magic_or_shell(\"!ls\")"
   ]
  },
  {
   "cell_type": "markdown",
   "metadata": {},
   "source": [
    "## Parsing \"xargs\""
   ]
  },
  {
   "cell_type": "markdown",
   "metadata": {},
   "source": [
    "We need to parse the line below `#xarg`, and decompose it into a variable declaration and the parameter range for the sweep."
   ]
  },
  {
   "cell_type": "code",
   "execution_count": null,
   "metadata": {},
   "outputs": [],
   "source": [
    "# export                \n",
    "_re_xarg = re.compile(r\"\"\"\n",
    "# parses the line below an `xarg` tag:\n",
    "^\n",
    "([^=]+)\n",
    "=\n",
    "([^;]+)\n",
    ";?\n",
    "(.*)\n",
    "$\"\"\", re.VERBOSE)"
   ]
  },
  {
   "cell_type": "code",
   "execution_count": null,
   "metadata": {},
   "outputs": [],
   "source": [
    "#export\n",
    "def strip(s):\n",
    "    return s.strip()\n",
    "\n",
    "def parse_xarg(line):\n",
    "    m = _re_xarg.match(line)\n",
    "    name, val, sweep = map(strip, m.groups())\n",
    "    return name, val, sweep"
   ]
  },
  {
   "cell_type": "code",
   "execution_count": null,
   "metadata": {},
   "outputs": [
    {
     "data": {
      "text/plain": [
       "('x', '0', '[0,1,2,3]')"
      ]
     },
     "execution_count": null,
     "metadata": {},
     "output_type": "execute_result"
    }
   ],
   "source": [
    "parse_xarg(\"x = 0 ; [0,1,2,3]\")"
   ]
  },
  {
   "cell_type": "markdown",
   "metadata": {},
   "source": [
    "## Parsing \"nbx\" cells"
   ]
  },
  {
   "cell_type": "markdown",
   "metadata": {},
   "source": [
    "First let's load the notebook"
   ]
  },
  {
   "cell_type": "code",
   "execution_count": null,
   "metadata": {},
   "outputs": [],
   "source": [
    "#export\n",
    "import json\n",
    "from argparse import Namespace\n",
    "\n",
    "class Bunch(object):\n",
    "    def __init__(self, adict={}):\n",
    "        self.__dict__.update(adict)\n",
    "        \n",
    "    def __repr__(self):\n",
    "        return str(self.__dict__.keys())\n",
    "\n",
    "def load_nb(fname):\n",
    "    nbdict = json.load(open(fname,'r',encoding=\"utf-8\"))\n",
    "    return Bunch(nbdict)"
   ]
  },
  {
   "cell_type": "code",
   "execution_count": null,
   "metadata": {},
   "outputs": [
    {
     "data": {
      "text/plain": [
       "dict_keys(['cells', 'metadata', 'nbformat', 'nbformat_minor'])"
      ]
     },
     "execution_count": null,
     "metadata": {},
     "output_type": "execute_result"
    }
   ],
   "source": [
    "nb = load_nb(\"om.ipynb\")\n",
    "nb"
   ]
  },
  {
   "cell_type": "code",
   "execution_count": null,
   "metadata": {},
   "outputs": [],
   "source": [
    "#export\n",
    "def parse_src(a, src):\n",
    "    if len(src) == 0: return a, []\n",
    "    \n",
    "    tag = extract_tag(src[0])\n",
    "    if tag is None:\n",
    "        if not is_magic_or_shell(src[0]):\n",
    "            a['xbody'].append(src[0])\n",
    "            \n",
    "        rest = src[1:]\n",
    "    elif tag == 'nbx':   \n",
    "        a['xbody'].append(src[0])\n",
    "        rest = src[1:]\n",
    "    elif tag == 'xarg':   \n",
    "        a['xarg'].append(src[1])\n",
    "        rest = src[2:]\n",
    "\n",
    "    return parse_src(a, rest)\n",
    "    \n",
    "\n",
    "def parse_nbx_cell(cell):\n",
    "    a = {'xbody': [], 'xarg': [] }\n",
    "    a, _ = parse_src(a, cell['source'])\n",
    "    return a['xarg'], a['xbody']"
   ]
  },
  {
   "cell_type": "markdown",
   "metadata": {},
   "source": [
    "Let's see how it works"
   ]
  },
  {
   "cell_type": "code",
   "execution_count": null,
   "metadata": {},
   "outputs": [],
   "source": [
    "#nbx\n",
    "\n",
    "#xarg \n",
    "x = 0 ; [0,1,2,3,4]\n",
    "\n",
    "#xarg \n",
    "y = 0 ;\n",
    "\n",
    "#xarg\n",
    "task_id = 0\n",
    "#xarg\n",
    "results_dir = \"./\"\n",
    "\n",
    "# some comment\n",
    "z = 1"
   ]
  },
  {
   "cell_type": "code",
   "execution_count": null,
   "metadata": {},
   "outputs": [
    {
     "name": "stdout",
     "output_type": "stream",
     "text": [
      "some result\n"
     ]
    }
   ],
   "source": [
    "#nbx\n",
    "\n",
    "print(\"some result\")"
   ]
  },
  {
   "cell_type": "code",
   "execution_count": null,
   "metadata": {},
   "outputs": [
    {
     "name": "stdout",
     "output_type": "stream",
     "text": [
      "\n",
      "*****************\n",
      "** Parsed Cell **\n",
      "*****************\n",
      "\n",
      "['x = 0 ; [0,1,2,3,4]\\n', 'y = 0 ;\\n', 'task_id = 0\\n', 'results_dir = \"./\"\\n']\n",
      "['#nbx\\n', '\\n', '\\n', '\\n', '\\n', '# some comment\\n', 'z = 1']\n",
      "\n",
      "*****************\n",
      "** Parsed Cell **\n",
      "*****************\n",
      "\n",
      "[]\n",
      "['#nbx\\n', '\\n', 'print(\"some result\")']\n"
     ]
    }
   ],
   "source": [
    "nb = load_nb(\"om.ipynb\")\n",
    "for cell in list(filter(is_nbx_cell, nb.cells)):\n",
    "    a = {'xbody': [], 'xarg': [] }\n",
    "    a,_ = parse_src(a, cell['source'])\n",
    "#     print(\"-----------\\n-- CELL --\\n-----------\")\n",
    "#     print(\"arg:\", \"\".join(a['xarg']))\n",
    "#     print(\"body:\", \"\".join(a['xbody']))\n",
    "    \n",
    "    print(\"\\n*****************\\n** Parsed Cell **\\n*****************\\n\")\n",
    "    xarg, xbody = parse_nbx_cell(cell)\n",
    "    print(xarg)\n",
    "    print(xbody)\n",
    "    \n"
   ]
  },
  {
   "cell_type": "markdown",
   "metadata": {},
   "source": [
    "## Parsing the whole thing"
   ]
  },
  {
   "cell_type": "code",
   "execution_count": null,
   "metadata": {},
   "outputs": [],
   "source": [
    "#export\n",
    "from functools import reduce\n",
    "\n",
    "def concat(list1, list2):\n",
    "    return list1 + list2\n",
    "\n",
    "def unzip(zipped):\n",
    "    return zip(*zipped)\n",
    "\n",
    "def negate(func):\n",
    "    return lambda x: not func(x)\n",
    "\n",
    "def is_constarg(a):\n",
    "    return len(a[2]) == 0\n",
    "\n",
    "not_constarg = negate(is_constarg)\n",
    "\n",
    "def get_item(i):\n",
    "    return lambda x: x[i]\n",
    "\n",
    "def get_items(*I):\n",
    "    return lambda x: tuple([x[i] for i in I])"
   ]
  },
  {
   "cell_type": "code",
   "execution_count": null,
   "metadata": {},
   "outputs": [],
   "source": [
    "#export\n",
    "def parse_nb(nb):\n",
    "    nbx_cells = filter(is_nbx_cell, nb.cells)\n",
    "\n",
    "    xargs = []\n",
    "    xbody = []\n",
    "    for cell in nbx_cells:\n",
    "        xa, xb = parse_nbx_cell(cell)        \n",
    "        xargs += [parse_xarg(line) for line in xa]\n",
    "        xbody += xb\n",
    "    \n",
    "    \n",
    "    pnb = Bunch()\n",
    "    \n",
    "\n",
    "    print(xargs)\n",
    "    \n",
    "    pnb.func_body = xbody\n",
    "    pnb.args = list(map(get_items(0,1), xargs))\n",
    "    pnb.const_args = list(map(get_items(0,1), filter(is_constarg, xargs)))\n",
    "    pnb.sweep_args = list(map(get_items(0,2), filter(not_constarg, xargs)))\n",
    "         \n",
    "    return pnb\n",
    "        "
   ]
  },
  {
   "cell_type": "code",
   "execution_count": null,
   "metadata": {},
   "outputs": [
    {
     "name": "stdout",
     "output_type": "stream",
     "text": [
      "[('x', '0', '[0,1,2,3,4]'), ('y', '0', ''), ('task_id', '0', ''), ('results_dir', '\"./\"', '')]\n",
      "[('x', '0'), ('y', '0'), ('task_id', '0'), ('results_dir', '\"./\"')]\n",
      "[('y', '0'), ('task_id', '0'), ('results_dir', '\"./\"')]\n",
      "[('x', '[0,1,2,3,4]')]\n",
      "['#nbx\\n', '\\n', '\\n', '\\n', '\\n', '# some comment\\n', 'z = 1', '#nbx\\n', '\\n', 'print(\"some result\")']\n"
     ]
    }
   ],
   "source": [
    "nb = load_nb(\"om.ipynb\")\n",
    "pnb = parse_nb(nb)\n",
    "print(pnb.args)\n",
    "print(pnb.const_args)\n",
    "print(pnb.sweep_args)\n",
    "print(pnb.func_body)"
   ]
  },
  {
   "cell_type": "markdown",
   "metadata": {},
   "source": [
    "# Creating the file bundle "
   ]
  },
  {
   "cell_type": "code",
   "execution_count": null,
   "metadata": {},
   "outputs": [],
   "source": [
    "#export\n",
    "from pathlib import Path\n",
    "import pkg_resources\n",
    "from nbx.templ import *\n",
    "import os\n",
    "\n",
    "def check_parsed_nb(pnb):\n",
    "    keys = list(map(get_item(0), pnb.args))\n",
    "    if \"task_id\" not in keys: raise KeyError(\"You didn't specify `task_id`!!\")\n",
    "    if \"results_dir\" not in keys: raise KeyError(\"You didn't specify `results_dir`!!\")\n",
    "        \n",
    "class NbxBundle():\n",
    "    def __init__(self, \n",
    "                 nbname, \n",
    "                 name=None, \n",
    "                 linting=True,\n",
    "                 time=[1,0], \n",
    "                 ntasks=10, \n",
    "                 step=5, \n",
    "                 simg=\"mirko-datascience.simg\"):\n",
    "\n",
    "        if name is None:\n",
    "            name = Path(nbname).stem\n",
    "            \n",
    "\n",
    "        self.nbname = nbname\n",
    "        self.name = name\n",
    "        self.path = Path(f\"{name}_nbx\")\n",
    "        \n",
    "        nb = load_nb(nbname)\n",
    "        nb = parse_nb(nb)\n",
    "        self.nb = nb\n",
    "        \n",
    "        check_parsed_nb(nb)\n",
    "        \n",
    "        self.num_configs = 1\n",
    "        for k, vs in nb.sweep_args: \n",
    "            self.num_configs *= len(eval(vs))\n",
    "        \n",
    "        self.create_folders()\n",
    "        self.create_script(\"experiment.tpl\", \"experiment.py\", vars(nb))\n",
    "        self.create_script(\"wrapper.tpl\", \"wrapper.py\", {\n",
    "            'experiment_module': \"experiment\"})\n",
    "        self.create_script(\"run.tpl\", \"run.sh\", {\n",
    "            'job_name': name, \n",
    "            'nbx_folder': os.environ['omx'],\n",
    "            'script_to_run': \"wrapper.py\", \n",
    "            'results_dir': \"./results\",\n",
    "            'array_start': 1, \n",
    "            'array_end':  self.num_configs, \n",
    "            'array_step': step, \n",
    "            'hours': time[0],\n",
    "            'mins': time[1],\n",
    "            'ntasks': ntasks,\n",
    "            'script': 'wrapper.py',\n",
    "            'simg': Path(os.environ['omsimg'])/simg, \n",
    "            'mail_user': \"mirko.klukas@gmail.com\", \n",
    "            'mem_per_cpu': 2000\n",
    "        })\n",
    "\n",
    "        print(self)\n",
    "        if linting: self.check_scripts()\n",
    "            \n",
    "            \n",
    "    def create_script(self, tname, fname, vars):\n",
    "        tpath = Path(pkg_resources.resource_filename(\n",
    "                     __name__, f\"/templates/{tname}\"))\n",
    "        \n",
    "        print(tpath)\n",
    "        create_file_from_template(tpath, \n",
    "            self.path/fname, vars)\n",
    "\n",
    "        \n",
    "    def create_folders(self):\n",
    "        if not os.path.exists(self.path):\n",
    "            os.makedirs(self.path)\n",
    "            os.makedirs(self.path/'io')\n",
    "\n",
    "        if os.path.exists('./src'):\n",
    "            if not os.path.exists(self.path/'src'):\n",
    "                os.makedirs(self.path/'src')\n",
    "            os.system(f\"cp -r src/* {self.path/'src'}\") \n",
    "\n",
    "        open(self.path/'__init__.py', 'a').close()\n",
    "    \n",
    "                      \n",
    "    def run_experiment(self):\n",
    "        self.run()\n",
    "        print(\"check status with `ssh $om squeue -u $omid` or `bundle.status()`\")\n",
    "        print(\"pull results with `bundle.pull_results()`\")\n",
    "\n",
    "    def __str__(self):\n",
    "        return render_template_from_string(BUNDLE_SUMMARY, \n",
    "                                           vars(self))\n",
    "\n",
    "    def _run_command(self, cmd):\n",
    "        stream = os.popen(cmd)\n",
    "        output = stream.read()\n",
    "        return output.strip()\n",
    "\n",
    "    def push(self):\n",
    "        cmd = f\"scp -r {self.path} $om:$omx\"\n",
    "        output = self._run_command(cmd)\n",
    "        if len(output) > 0:\n",
    "            print(output)\n",
    "\n",
    "    def run(self):\n",
    "        cmd = f\"ssh $om sbatch -D $omx/{self.path} $omx/{self.path}/run.sh\"\n",
    "        print(self._run_command(cmd))\n",
    "                      \n",
    "    def status(self):\n",
    "        cmd = f\"ssh $om squeue -u $omid\"\n",
    "        print(self._run_command(cmd))\n",
    "\n",
    "    def pull_results(self):\n",
    "        cmd = f\"scp -r $om:$omx/{self.path}/results ./{self.path}\"\n",
    "        output = self._run_command(cmd)\n",
    "        if len(output) > 0:\n",
    "            print(output)\n",
    "\n",
    "        print(f\"copied to `{self.path}/results/\")\n",
    "\n",
    "    def check_scripts(self):\n",
    "        output = self._run_command(f\"pylint -E {self.path/'wrapper.py'}\") \n",
    "        if len(output) > 0:\n",
    "            print(output)\n",
    "            raise \"Check wrapper script\"\n",
    "\n",
    "        output = self._run_command(f\"pylint -E {self.path/'experiment.py'}\") \n",
    "        if len(output) > 0:\n",
    "            print(output)\n",
    "            raise \"Check experiment script\"\n",
    "\n",
    "        print(\"(pylinting went ok)\")\n",
    "\n",
    "\n",
    "\n",
    "BUNDLE_SUMMARY = \"\"\"\n",
    "** nbx bundle created **\n",
    "Path:\n",
    "    {{path}}\n",
    "    \n",
    "Source nb:\n",
    "    {{nbname}}\n",
    "\n",
    "Parameters (#configs {{num_configs}}):\n",
    "    {% for k,v in nb.sweep_args %}* {{k}} = {{v}}{% if not loop.last %}\n",
    "    {% endif %}{% endfor %}\n",
    "    {% for k,v in nb.const_args %}  {{k}} = {{v}}{% if not loop.last %}\n",
    "    {% endif %}{% endfor %}\n",
    "\n",
    "Instructions:\n",
    "    Copy to remote, run the bash script, and pull the results\n",
    "    - `scp -r {{path}} $om:$omx`\n",
    "    - `ssh $om sbatch -D $omx/{{path}} $omx/{{path}}/run.sh`\n",
    "    - `scp -r $om:$omx/{{path}}/results ./results`\n",
    "\n",
    "\"\"\"\n",
    "    "
   ]
  },
  {
   "cell_type": "code",
   "execution_count": null,
   "metadata": {},
   "outputs": [
    {
     "name": "stdout",
     "output_type": "stream",
     "text": [
      "[('x', '0', '[0,1,2,3,4]'), ('y', '0', ''), ('task_id', '0', ''), ('results_dir', '\"./\"', '')]\n",
      "nbx/templates/experiment.tpl\n",
      "nbx/templates/wrapper.tpl\n",
      "nbx/templates/run.tpl\n",
      "\n",
      "** nbx bundle created **\n",
      "Path:\n",
      "    test_nbx\n",
      "    \n",
      "Source nb:\n",
      "    om.ipynb\n",
      "\n",
      "Parameters (#configs 5):\n",
      "    * x = [0,1,2,3,4]\n",
      "      y = 0\n",
      "      task_id = 0\n",
      "      results_dir = \"./\"\n",
      "\n",
      "Instructions:\n",
      "    Copy to remote, run the bash script, and pull the results\n",
      "    - `scp -r test_nbx $om:$omx`\n",
      "    - `ssh $om sbatch -D $omx/test_nbx $omx/test_nbx/run.sh`\n",
      "    - `scp -r $om:$omx/test_nbx/results ./results`\n",
      "\n"
     ]
    },
    {
     "data": {
      "text/plain": [
       "<__main__.NbxBundle at 0x113c4f0f0>"
      ]
     },
     "execution_count": null,
     "metadata": {},
     "output_type": "execute_result"
    }
   ],
   "source": [
    "NbxBundle(nbname=\"om.ipynb\", \n",
    "          name=\"test\", \n",
    "          linting=False,\n",
    "          time=[2,0], \n",
    "          ntasks=4, \n",
    "          step=5, \n",
    "          simg=\"mirko-datascience.simg\")"
   ]
  },
  {
   "cell_type": "code",
   "execution_count": null,
   "metadata": {},
   "outputs": [
    {
     "data": {
      "text/plain": [
       "'/om2/user/mklukas/simg'"
      ]
     },
     "execution_count": null,
     "metadata": {},
     "output_type": "execute_result"
    }
   ],
   "source": []
  },
  {
   "cell_type": "code",
   "execution_count": null,
   "metadata": {},
   "outputs": [],
   "source": []
  }
 ],
 "metadata": {
  "kernelspec": {
   "display_name": "Python 3",
   "language": "python",
   "name": "python3"
  }
 },
 "nbformat": 4,
 "nbformat_minor": 2
}
