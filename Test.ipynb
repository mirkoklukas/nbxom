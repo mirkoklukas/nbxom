{
 "cells": [
  {
   "cell_type": "code",
   "execution_count": null,
   "metadata": {},
   "outputs": [
    {
     "name": "stdout",
     "output_type": "stream",
     "text": [
      "The autoreload extension is already loaded. To reload it, use:\n",
      "  %reload_ext autoreload\n"
     ]
    }
   ],
   "source": [
    "%matplotlib inline\n",
    "%load_ext autoreload\n",
    "%autoreload 2"
   ]
  },
  {
   "cell_type": "code",
   "execution_count": null,
   "metadata": {},
   "outputs": [],
   "source": [
    "from nbx.om import create_om_files\n"
   ]
  },
  {
   "cell_type": "code",
   "execution_count": null,
   "metadata": {},
   "outputs": [
    {
     "name": "stdout",
     "output_type": "stream",
     "text": [
      "\n",
      "** Instructions: **\n",
      "    Copy to remote, run the bash script, and pull the results:\n",
      "    - `scp -r ./julia_test $om:$omx`\n",
      "    - `ssh $om sbatch -D $omx/./julia_test $omx/./julia_test/run.sh`\n",
      "    - `scp -r $om:$omx/./julia_test/results ./results`\n",
      "\n",
      "    Num params:\n",
      "    - `!julia -e 'include(\"./julia_test/experiment.jl\"); println(length(sweep_params))'`\n"
     ]
    }
   ],
   "source": [
    "create_om_files(\n",
    "    nbname=\"./Test_jl.ipynb\",\n",
    "    target_dir=\"./julia_test\", \n",
    "    lang=\"jl\", \n",
    "    num_jobs=3,\n",
    "    simg=\"julia.simg\",\n",
    "    job_header={\n",
    "        \"--time\": \"01:02:03\",\n",
    "        \"--mail-user\": \"me@somewhere.com\"\n",
    "    })"
   ]
  },
  {
   "cell_type": "code",
   "execution_count": null,
   "metadata": {},
   "outputs": [
    {
     "name": "stdout",
     "output_type": "stream",
     "text": [
      "11\r\n"
     ]
    }
   ],
   "source": [
    "!julia -e 'include(\"./julia_test/experiment.jl\"); println(length(sweep_params))'\n"
   ]
  },
  {
   "cell_type": "code",
   "execution_count": null,
   "metadata": {},
   "outputs": [
    {
     "name": "stdout",
     "output_type": "stream",
     "text": [
      "experiment.jl                                 100% 2170    19.8KB/s   00:00    \n",
      "run.sh                                        100%  136     1.3KB/s   00:00    \n",
      "wrapper.jl                                    100%  653     6.1KB/s   00:00    \n",
      "job.sh                                        100%  670     6.3KB/s   00:00    \n"
     ]
    }
   ],
   "source": [
    "!scp -r ./julia_test $om:$omx"
   ]
  },
  {
   "cell_type": "code",
   "execution_count": null,
   "metadata": {},
   "outputs": [
    {
     "name": "stdout",
     "output_type": "stream",
     "text": [
      "Submitted batch job 17188789\r\n"
     ]
    }
   ],
   "source": [
    "!ssh $om sbatch -D $omx/./julia_test $omx/./julia_test/run.sh"
   ]
  },
  {
   "cell_type": "code",
   "execution_count": null,
   "metadata": {},
   "outputs": [
    {
     "ename": "NameError",
     "evalue": "name 'println' is not defined",
     "output_type": "error",
     "traceback": [
      "\u001b[0;31m---------------------------------------------------------------------------\u001b[0m",
      "\u001b[0;31mNameError\u001b[0m                                 Traceback (most recent call last)",
      "\u001b[0;32m<ipython-input-60-4e2f98d784db>\u001b[0m in \u001b[0;36m<module>\u001b[0;34m\u001b[0m\n\u001b[1;32m     11\u001b[0m \u001b[0mc\u001b[0m \u001b[0;34m=\u001b[0m \u001b[0;36m0\u001b[0m\u001b[0;34m;\u001b[0m\u001b[0;34m\u001b[0m\u001b[0;34m\u001b[0m\u001b[0m\n\u001b[1;32m     12\u001b[0m \u001b[0;34m\u001b[0m\u001b[0m\n\u001b[0;32m---> 13\u001b[0;31m \u001b[0mprintln\u001b[0m\u001b[0;34m(\u001b[0m\u001b[0mx1\u001b[0m\u001b[0;34m)\u001b[0m\u001b[0;34m\u001b[0m\u001b[0;34m\u001b[0m\u001b[0m\n\u001b[0m",
      "\u001b[0;31mNameError\u001b[0m: name 'println' is not defined"
     ]
    }
   ],
   "source": [
    "#nbx\n",
    "#xarg\n",
    "task_id = 0\n",
    "#xarg\n",
    "results_dir = 0\n",
    "\n",
    "#xarg\n",
    "x1 = 0; [0, 1, 2, 3, 4, 5 ,6]\n",
    "\n",
    "#xarg\n",
    "c = 0;\n",
    "\n"
   ]
  },
  {
   "cell_type": "code",
   "execution_count": null,
   "metadata": {},
   "outputs": [],
   "source": []
  }
 ],
 "metadata": {
  "kernelspec": {
   "display_name": "Python 3",
   "language": "python",
   "name": "python3"
  }
 },
 "nbformat": 4,
 "nbformat_minor": 2
}
