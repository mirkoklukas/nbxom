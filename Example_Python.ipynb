{
 "cells": [
  {
   "cell_type": "code",
   "execution_count": null,
   "metadata": {},
   "outputs": [],
   "source": [
    "%matplotlib inline\n",
    "%load_ext autoreload\n",
    "%autoreload 2"
   ]
  },
  {
   "cell_type": "code",
   "execution_count": null,
   "metadata": {},
   "outputs": [],
   "source": [
    "#nbx\n",
    "#xarg\n",
    "task_id = 0\n",
    "#xarg\n",
    "results_dir = \".\""
   ]
  },
  {
   "cell_type": "code",
   "execution_count": null,
   "metadata": {},
   "outputs": [],
   "source": [
    "#nbx\n",
    "\n",
    "#xarg\n",
    "x=0; range(5)\n",
    "\n",
    "#xarg\n",
    "y=0; [0,1,2,4]\n",
    "\n",
    "z=0;\n",
    "\n",
    "# ..."
   ]
  },
  {
   "cell_type": "code",
   "execution_count": null,
   "metadata": {},
   "outputs": [
    {
     "name": "stdout",
     "output_type": "stream",
     "text": [
      "Creating om ... files...\n",
      "\tfrom /Users/mirko/Workspace/nbx/nbx/templates\n",
      "Creating... EXAMPLE_BUNDLE/job.sh \n",
      "\tfrom job_py.tpl\n",
      "\n",
      "** Instructions: **\n",
      "    Copy to remote, run the bash script, and pull the results:\n",
      "    - `scp -r ./EXAMPLE_BUNDLE $om:$omx`\n",
      "    - `ssh $om sbatch -D $omx/./EXAMPLE_BUNDLE $omx/./EXAMPLE_BUNDLE/run.sh`\n",
      "    - `scp -r $om:$omx/./EXAMPLE_BUNDLE/results ./results`\n",
      "\n",
      "    Num params:\n",
      "    - `!julia -e 'include(\"./EXAMPLE_BUNDLE/experiment.jl\"); println(length(sweep_params))'`\n",
      "['task_id = 0\\n', 'results_dir = \".\"', 'x=0; range(5)\\n', 'y=0; [0,1,2,4]\\n']\n",
      "Creating... EXAMPLE_BUNDLE/experiment.py \n",
      "\tfrom experiment_py.tpl\n"
     ]
    }
   ],
   "source": [
    "from nbx.om import create_om_files, create_experiment_script\n",
    "\n",
    "create_om_files(\n",
    "    target_dir=\"./EXAMPLE_BUNDLE\", \n",
    "    lang=\"py\", \n",
    "    num_jobs=162,\n",
    "    simg=\"pytorch.simg\",\n",
    "    job_header={\n",
    "        \"--time\": \"01:20:00\",\n",
    "        \"--partition\": \"fiete\",\n",
    "        \"--mem\": \"32gb\",\n",
    "        \"--cpus-per-task\": 20,\n",
    "        \"--mail-user\": \"me@somewhere.com\"})\n",
    "\n",
    "create_experiment_script(target_dir=\"./EXAMPLE_BUNDLE\", lang=\"py\", nbname=\"Example_Python.ipynb\")"
   ]
  },
  {
   "cell_type": "code",
   "execution_count": null,
   "metadata": {},
   "outputs": [
    {
     "name": "stdout",
     "output_type": "stream",
     "text": [
      "/Users/mirko/Workspace/nbx\r\n"
     ]
    }
   ],
   "source": [
    "!pwd"
   ]
  },
  {
   "cell_type": "code",
   "execution_count": null,
   "metadata": {},
   "outputs": [
    {
     "name": "stdout",
     "output_type": "stream",
     "text": [
      "**nbx**\r\n",
      "Calling main...\r\n",
      "\ty: 4\r\n",
      "\tx: 4\r\n",
      "\tresults_dir: EXAMPLE_BUNDLE/results/0\r\n",
      "\ttask_id: 0\r\n",
      "\r\n",
      "**nbx**\r\n",
      "Experiment finished.\r\n"
     ]
    }
   ],
   "source": [
    "!python ./EXAMPLE_BUNDLE/experiment.py"
   ]
  },
  {
   "cell_type": "code",
   "execution_count": null,
   "metadata": {},
   "outputs": [],
   "source": []
  }
 ],
 "metadata": {
  "kernelspec": {
   "display_name": "Python 3",
   "language": "python",
   "name": "python3"
  }
 },
 "nbformat": 4,
 "nbformat_minor": 2
}
