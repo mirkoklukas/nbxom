{
 "cells": [
  {
   "cell_type": "code",
   "execution_count": null,
   "metadata": {},
   "outputs": [],
   "source": [
    "#export\n",
    "import numpy as np\n",
    "from collections import OrderedDict\n",
    "\n",
    "class ParameterSpace():\n",
    "    def __init__(self, axes):\n",
    "        self._axes = OrderedDict()\n",
    "        self._keys = []\n",
    "        self.shape = ()\n",
    "\n",
    "        if isinstance(axes, dict):\n",
    "            axes = axes.items()\n",
    "\n",
    "        for axis in axes:\n",
    "                key, vals = axis\n",
    "                self._add_axis(key, vals)\n",
    "\n",
    "        assert len(self) >= 0\n",
    "\n",
    "\n",
    "    def sample(self, key=None):\n",
    "        if key is None:\n",
    "            t = np.random.choice(len(self))\n",
    "            x = self[t]\n",
    "        else:\n",
    "            x = np.random.choice(self._axes[key])\n",
    "\n",
    "        return x\n",
    "\n",
    "\n",
    "    def _add_axis(self, key, vals):\n",
    "            self._axes[key] = vals\n",
    "            self._keys.append(key)\n",
    "            self.shape += (len(vals),)\n",
    "\n",
    "\n",
    "    @staticmethod\n",
    "    def _get_multi_index(t, shape):\n",
    "        n = len(shape)\n",
    "        I = [None]*n\n",
    "        for k in range(0,n):\n",
    "            i = t//np.prod(shape[k+1:])\n",
    "            I[k] = int(i)%shape[k]\n",
    "\n",
    "        return I\n",
    "\n",
    "\n",
    "    def __getitem__(self, i):\n",
    "        I = self._get_multi_index(i,self.shape)\n",
    "        c = {}\n",
    "        for k,i in enumerate(I):\n",
    "            key = self._keys[k]\n",
    "            c[key] = self._axes[key][i]\n",
    "\n",
    "        return c\n",
    "\n",
    "    def __call__(self, t):\n",
    "        return self[t]\n",
    "\n",
    "\n",
    "    def _coords(self, c):\n",
    "        I = [None]*len(self.shape)\n",
    "        assert isinstance(c, dict)\n",
    "\n",
    "\n",
    "        for k,v in c.items():\n",
    "            j = self._keys.index(k)\n",
    "            I[j] = list(self._axes[k]).index(v)\n",
    "\n",
    "        return I\n",
    "\n",
    "    def find(self, c):\n",
    "        assert isinstance(c, dict)\n",
    "        I = self._coords(c)\n",
    "\n",
    "        t = 0\n",
    "        for j,i in enumerate(I):\n",
    "            t += i*np.prod(self.shape[j+1:])\n",
    "\n",
    "        return int(t)\n",
    "\n",
    "    def slice(self, **fixed):\n",
    "        fixed = dict([(k,v) for k,v in fixed.items() if v is not None])\n",
    "\n",
    "        keys  = self._keys\n",
    "\n",
    "        free = []\n",
    "        for i,k in enumerate(keys):\n",
    "            if k not in fixed.keys():\n",
    "                free.append(i)\n",
    "\n",
    "\n",
    "\n",
    "\n",
    "        sl_shape = tuple([self.shape[i] for i in free])\n",
    "\n",
    "        Z = np.indices(sl_shape)\t\t\n",
    "        X = np.zeros((self.dim,*sl_shape))\n",
    "\n",
    "        x = self._coords(fixed)\n",
    "\n",
    "        count = 0\n",
    "        for i in range(self.dim):\n",
    "            if x[i] is None:\n",
    "                X[i] = Z[count]\n",
    "                count+=1\n",
    "            else:\n",
    "                X[i] = x[i]\n",
    "                \n",
    "        fac = np.array([np.prod(self.shape[j+1:]) for j in range(self.dim)])\n",
    "        fac = fac.reshape((-1,)+(1,)*len(free))\n",
    "\n",
    "        print(f\"Slice:\")\n",
    "        print(\" - \"+ \", \".join([f\"{k}={v}\" for k,v in fixed.items()]))\n",
    "        print(\" - \"+ \", \".join([f\"{keys[i]}={self._axes[keys[i]]}\" for i in free]))\n",
    "\n",
    "\n",
    "        return np.sum(fac*X, axis=0).astype(int)\n",
    "\n",
    "\n",
    "    @property\n",
    "    def dim(self):\n",
    "        return len(self.shape)\n",
    "\n",
    "    def __len__(self):\n",
    "        if len(self.shape)>0: return np.product(self.shape)\n",
    "        else: return 0\n",
    "\n",
    "    def __str__(self):\n",
    "        s = \"ParameterSpace(\\n\"\n",
    "        for key, axis in self._axes.items():\n",
    "            s += f\"\\t{key}:\\t{axis}\\n\"\n",
    "        s += \")\"\n",
    "        return s\n",
    "\n"
   ]
  },
  {
   "cell_type": "code",
   "execution_count": null,
   "metadata": {},
   "outputs": [
    {
     "name": "stdout",
     "output_type": "stream",
     "text": [
      "Slice:\n",
      " - x=1\n",
      " - y=[11, 22, 33], z=[111, 222, 333]\n"
     ]
    },
    {
     "data": {
      "text/plain": [
       "array([[0, 1, 2],\n",
       "       [3, 4, 5],\n",
       "       [6, 7, 8]])"
      ]
     },
     "execution_count": null,
     "metadata": {},
     "output_type": "execute_result"
    }
   ],
   "source": [
    "p = ParameterSpace([\n",
    "    ('x', [1,2,3]),\n",
    "    ('y', [11,22,33]),\n",
    "    ('z', [111,222,333]),\n",
    "])\n",
    "\n",
    "p.slice(x=1)"
   ]
  },
  {
   "cell_type": "markdown",
   "metadata": {},
   "source": [
    "# Export"
   ]
  },
  {
   "cell_type": "code",
   "execution_count": null,
   "metadata": {},
   "outputs": [
    {
     "name": "stdout",
     "output_type": "stream",
     "text": [
      "Converted om.ipynb.\n",
      "Converted pspace.ipynb.\n",
      "Converted templ.ipynb.\n"
     ]
    }
   ],
   "source": [
    "#default_exp pspace\n",
    "from nbdev.export import notebook2script\n",
    "notebook2script()"
   ]
  },
  {
   "cell_type": "code",
   "execution_count": null,
   "metadata": {},
   "outputs": [],
   "source": []
  }
 ],
 "metadata": {
  "kernelspec": {
   "display_name": "Python 3",
   "language": "python",
   "name": "python3"
  }
 },
 "nbformat": 4,
 "nbformat_minor": 2
}
