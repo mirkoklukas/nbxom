{
 "cells": [
  {
   "cell_type": "markdown",
   "metadata": {},
   "source": [
    "# `nbx.om`: Notebook Experiments for OpenMind\n",
    "\n",
    "> This module enables you to quickly convert your jupyter notebook into a bundle of files that can be run on BCS'*OpenMind*. "
   ]
  },
  {
   "cell_type": "markdown",
   "metadata": {},
   "source": [
    "# Getting started"
   ]
  },
  {
   "cell_type": "markdown",
   "metadata": {},
   "source": [
    "## Prerequisites\n",
    "**1.** Install the package:\n",
    "\n",
    "- `pip install nbx`\n",
    "\n",
    "**2.** Get a singulartiy that has the package installed. Here's one you can built yourself:\n",
    "\n",
    "```shell\n",
    "module load openmind/singularity/3.2.0\n",
    "export SINGULARITY_CACHEDIR=\"/om2/user/{your_user_name}/.singularity\"\n",
    "singularity build pytorch.simg docker://mklukas/pytorch\n",
    "```\n",
    "\n",
    "**3.** For the modules to work you have to set the environment variables `om`, `omx`, and `omsimg`:  \n",
    "\n",
    "- **om**: your login to *OpenMind*. \n",
    "    - You need to enable logging into *OpenMind* using public key authentication. That means the command `ssh $om` should log you in whithout asking for a password. (googling for \"ssh public key authentication\" will provide you with a recipe like [this](https://kb.iu.edu/d/aews))\n",
    "- **omx**: path to the folder where *nbx* bundles are stored. This path will automatically be added to your python path. Any modules that are not part of your bundles `src/` folder or are included in your singularity container should go here.\n",
    "- **omsimg**: path to the folder containing your singularity images\n",
    "\n",
    "Mac users can adapt and copy the following lines to their `.bash_profile`\n",
    "\n",
    "```shell\n",
    "export om={your_user_name}@openmind7.mit.edu\n",
    "export omx=/om2/user/{your_user_name}/nbx-experiments\n",
    "export omsimg=/om2/user/{your_user_name}/simg\n",
    "```\n",
    "\n"
   ]
  },
  {
   "cell_type": "markdown",
   "metadata": {},
   "source": [
    "## Usage\n",
    "\n",
    "- Put your python scripts that you wrote for this experiment in a folder called `src`. The folder will be copied to the bundle so the scripts are available on *OpenMind* as well.\n",
    "- **#nbx**: Each cell that contains a `#nbx` tag in its **first** line will be considered part of the experiment.\n",
    "- **#xarg**: Putting `#xarg` above a variable declaration makes this variable *explicit*, it will become an argument of the experiment function. Any iterable to the right of the variable declaration, **separated by a semicolon**, will be considered the domain that will be swept during the parameter sweep.\n",
    "- Each nbx-experiment has to declare the variables `task_id` and `results_dir`. The *task id* will be set by the *wrapper* script and enumerates the configurations of the parameter space. The latter variable will also be set by the *wrapper* script, it will be replaced by the folder automatically created for a specific parameter configuration. \n",
    "\n",
    "\n",
    "\n",
    "\n"
   ]
  },
  {
   "cell_type": "markdown",
   "metadata": {},
   "source": [
    "# Example"
   ]
  },
  {
   "cell_type": "code",
   "execution_count": null,
   "metadata": {},
   "outputs": [
    {
     "name": "stdout",
     "output_type": "stream",
     "text": [
      "The autoreload extension is already loaded. To reload it, use:\n",
      "  %reload_ext autoreload\n"
     ]
    }
   ],
   "source": [
    "%matplotlib inline\n",
    "%load_ext autoreload\n",
    "%autoreload 2"
   ]
  },
  {
   "cell_type": "code",
   "execution_count": null,
   "metadata": {},
   "outputs": [],
   "source": [
    "#nbx\n",
    "#xarg\n",
    "task_id = 0\n",
    "#xarg\n",
    "results_dir = \"./\"\n",
    "\n",
    "#xarg\n",
    "x=0;\n",
    "\n",
    "#xarg\n",
    "y=0; [0,1,2,3,4]\n",
    "\n",
    "z=0;"
   ]
  },
  {
   "cell_type": "code",
   "execution_count": null,
   "metadata": {},
   "outputs": [
    {
     "name": "stdout",
     "output_type": "stream",
     "text": [
      "my results: 0 0 0\n"
     ]
    }
   ],
   "source": [
    "#nbx\n",
    "print(\"my results:\", x, y, z)"
   ]
  },
  {
   "cell_type": "code",
   "execution_count": null,
   "metadata": {},
   "outputs": [
    {
     "name": "stdout",
     "output_type": "stream",
     "text": [
      "[('task_id', '0', ''), ('results_dir', '\"./\"', ''), ('x', '0', ''), ('y', '0', '[0,1,2,3,4]')]\n",
      "/Users/mirko/Workspace/nbx/nbx/templates/experiment.tpl\n",
      "/Users/mirko/Workspace/nbx/nbx/templates/wrapper.tpl\n",
      "/Users/mirko/Workspace/nbx/nbx/templates/run.tpl\n",
      "\n",
      "** nbx bundle created **\n",
      "Path:\n",
      "    test_nbx\n",
      "\n",
      "Source nb:\n",
      "    index.ipynb\n",
      "\n",
      "Parameters (#configs 5):\n",
      "    * y = [0,1,2,3,4]\n",
      "      task_id = 0\n",
      "      results_dir = \"./\"\n",
      "      x = 0\n",
      "\n",
      "Instructions:\n",
      "    Copy to remote, run the bash script, and pull the results\n",
      "    - `scp -r test_nbx $om:$omx`\n",
      "    - `ssh $om sbatch -D $omx/test_nbx $omx/test_nbx/run.sh`\n",
      "    - `scp -r $om:$omx/test_nbx/results ./results`\n",
      "\n"
     ]
    }
   ],
   "source": [
    "from nbx.om import NbxBundle\n",
    "\n",
    "bundle = NbxBundle(nbname=\"index.ipynb\", \n",
    "          name=\"test\", \n",
    "          linting=False,\n",
    "          time=[2,0], \n",
    "          ntasks=4, \n",
    "          step=5, \n",
    "          simg=\"mirko-datascience.simg\")"
   ]
  },
  {
   "cell_type": "code",
   "execution_count": null,
   "metadata": {},
   "outputs": [
    {
     "name": "stdout",
     "output_type": "stream",
     "text": [
      "**nbx**\r\n",
      "Running Experiment...\r\n",
      "\tkwargs: {}\r\n",
      "\ty: 0\r\n",
      "\tx: 0\r\n",
      "\tresults_dir: ./\r\n",
      "\ttask_id: 0\r\n",
      "my results: 0 0 0\r\n",
      "\r\n",
      "**nbx**\r\n",
      "Experiment finished.\r\n"
     ]
    }
   ],
   "source": [
    "!python test_nbx/experiment.py"
   ]
  },
  {
   "cell_type": "code",
   "execution_count": null,
   "metadata": {},
   "outputs": [
    {
     "name": "stdout",
     "output_type": "stream",
     "text": [
      "wrapper.py                                    100%  950   106.0KB/s   00:00    \n",
      "__init__.py                                   100%    0     0.0KB/s   00:00    \n",
      "run.sh                                        100%  732   117.9KB/s   00:00    \n",
      "experiment.py                                 100%  739    78.9KB/s   00:00    \n"
     ]
    }
   ],
   "source": [
    "!scp -r test_nbx $om:$omx"
   ]
  },
  {
   "cell_type": "code",
   "execution_count": null,
   "metadata": {},
   "outputs": [
    {
     "name": "stdout",
     "output_type": "stream",
     "text": [
      "Submitted batch job 15969897\r\n"
     ]
    }
   ],
   "source": [
    "!ssh $om sbatch -D $omx/test_nbx $omx/test_nbx/run.sh"
   ]
  },
  {
   "cell_type": "code",
   "execution_count": null,
   "metadata": {},
   "outputs": [
    {
     "name": "stdout",
     "output_type": "stream",
     "text": [
      "             JOBID PARTITION     NAME     USER ST       TIME  NODES NODELIST(REASON)\r\n"
     ]
    }
   ],
   "source": [
    "!ssh $om squeue -u $omid"
   ]
  },
  {
   "cell_type": "code",
   "execution_count": null,
   "metadata": {},
   "outputs": [],
   "source": []
  }
 ],
 "metadata": {
  "kernelspec": {
   "display_name": "Python 3",
   "language": "python",
   "name": "python3"
  }
 },
 "nbformat": 4,
 "nbformat_minor": 2
}
