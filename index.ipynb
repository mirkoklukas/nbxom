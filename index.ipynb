{
 "cells": [
  {
   "cell_type": "markdown",
   "metadata": {},
   "source": [
    "# NBX: Notebook Experiments for OpenMind\n",
    "\n",
    "> This module enables you to quickly convert your jupyter notebook into a bundle of files that can be run on BCS'*OpenMind*. "
   ]
  },
  {
   "cell_type": "markdown",
   "metadata": {},
   "source": [
    "# Getting started"
   ]
  },
  {
   "cell_type": "markdown",
   "metadata": {},
   "source": [
    "## Prerequisites\n",
    "#### Install the package:\n",
    "\n",
    "- `pip install nbx`\n",
    "\n",
    "#### Get a singulartiy image\n",
    "You'll need an image that has the package installed (there are ways around that, but I am keeping it simple at the moment). Here's how you can build an image:\n",
    "\n",
    "```\n",
    "module load openmind/singularity/3.2.0\n",
    "export SINGULARITY_CACHEDIR=\"/om2/user/{your_user_name}/.singularity\"\n",
    "singularity build pytorch.simg docker://mklukas/pytorch\n",
    "```\n",
    "\n",
    "#### Environment variables\n",
    "For the modules to work you have to set the environment variables `om`, `omx`, `omsimg`, and `omid`:  \n",
    "\n",
    "- **om**: your login to *OpenMind*. \n",
    "    - You need to enable logging into *OpenMind* using public key authentication. That means the command `ssh $om` should log you in whithout asking for a password. (googling for \"ssh public key authentication\" will provide you with a recipe like [this](https://kb.iu.edu/d/aews))\n",
    "- **omx**: path to the folder where *nbx* bundles are stored. This path will automatically be added to your python path. Any modules that are not part of your bundle's `src/` folder or are included in your singularity container should go here.\n",
    "- **omsimg**: path to the folder containing your singularity images\n",
    "- **omid**: your Open Mind username \n",
    "\n",
    "Mac users can adapt and copy the following lines to their `.bash_profile` file\n",
    "\n",
    "```\n",
    "export om={your_user_name}@openmind7.mit.edu\n",
    "export omid={your_user_name}\n",
    "export omx=/om2/user/{your_user_name}/nbx-experiments\n",
    "export omsimg=/om2/user/{your_user_name}/simg\n",
    "```\n",
    "\n"
   ]
  },
  {
   "cell_type": "markdown",
   "metadata": {},
   "source": [
    "## Usage\n",
    "\n",
    "- Put your python scripts that you wrote for this experiment in a folder called `src`. The folder will be copied to the bundle so the scripts are available on *OpenMind* as well.\n",
    "- **#nbx**: Each cell that contains a `#nbx` tag in its **first** line will be considered part of the experiment.\n",
    "- **#xarg**: Putting `#xarg` above a variable declaration makes this variable *explicit*, it will become an argument of the experiment function. Any iterable to the right of the variable declaration, **separated by a semicolon**, will be considered the domain that will be swept during the parameter sweep.\n",
    "- Each nbx-experiment has to declare the variables `task_id` and `results_dir`. The *task id* will be set by the *wrapper* script and enumerates the configurations of the parameter space. The latter variable will also be set by the *wrapper* script, it will be replaced by the folder automatically created for a specific parameter configuration. "
   ]
  },
  {
   "cell_type": "markdown",
   "metadata": {},
   "source": [
    "# Example"
   ]
  },
  {
   "cell_type": "markdown",
   "metadata": {},
   "source": [
    "## Experiment\n",
    "\n",
    "In every experiment we need to indicate which cells are part of it (using the `#nbx` flag), and need to specify these two arguments:\n",
    "- `task_id`\n",
    "- `results_dir`"
   ]
  },
  {
   "cell_type": "code",
   "execution_count": null,
   "metadata": {},
   "outputs": [],
   "source": [
    "%matplotlib inline\n",
    "%load_ext autoreload\n",
    "%autoreload 2"
   ]
  },
  {
   "cell_type": "code",
   "execution_count": null,
   "metadata": {},
   "outputs": [],
   "source": [
    "#nbx\n",
    "#xarg\n",
    "task_id = 0\n",
    "#xarg\n",
    "results_dir = \".\""
   ]
  },
  {
   "cell_type": "markdown",
   "metadata": {},
   "source": [
    "This cell will be part of the experiment"
   ]
  },
  {
   "cell_type": "code",
   "execution_count": null,
   "metadata": {},
   "outputs": [],
   "source": [
    "#nbx\n",
    "\n",
    "#xarg\n",
    "x=0; range(3)\n",
    "\n",
    "#xarg\n",
    "y=0; [0,1,2,4]\n",
    "\n",
    "z=0;\n",
    "\n",
    "# ..."
   ]
  },
  {
   "cell_type": "markdown",
   "metadata": {},
   "source": [
    "This cell will also be part of the experiment. The output will be written to a log file in the `io` folder that will automatically be created. "
   ]
  },
  {
   "cell_type": "code",
   "execution_count": null,
   "metadata": {},
   "outputs": [],
   "source": [
    "#nbx\n",
    "print(\"my results:\", x, y, z)"
   ]
  },
  {
   "cell_type": "markdown",
   "metadata": {},
   "source": [
    "Note how we used the variable `results_dir`. It will will be replaced by `\"results/task_id/\"`; a corresponding folder will automatically be created. It is really just a hook so we can manipulate it behind the scenes."
   ]
  },
  {
   "cell_type": "code",
   "execution_count": null,
   "metadata": {},
   "outputs": [],
   "source": [
    "#nbx\n",
    "with open(f\"{results_dir}/your_file.txt\", \"w\") as f:\n",
    "    f.write(\"I will be written to: example_nbx_bundle/results/task_id/your_file.txt\")\n",
    "    f.write(f\"\\n{task_id}\")"
   ]
  },
  {
   "cell_type": "markdown",
   "metadata": {},
   "source": [
    "## Creating and running an NBX bundle"
   ]
  },
  {
   "cell_type": "markdown",
   "metadata": {},
   "source": [
    "To run the experiment on OM we have to create a bundle that we can interact with..."
   ]
  },
  {
   "cell_type": "code",
   "execution_count": null,
   "metadata": {},
   "outputs": [],
   "source": [
    "from nbx.om import NbxBundle\n",
    "\n",
    "bundle = NbxBundle(nbname=\"index.ipynb\", # the name of the notebook to use as exp\n",
    "          name=\"example_bundle\",         # name of the bundle\n",
    "          linting=False,                 # enable basic linting\n",
    "          time=[0,20],                   # comp time [hours, minutes]\n",
    "          ntasks=4,                      # requested comp nodes\n",
    "          step=50,                       # parallel jobs (compare bundle/run.sh)\n",
    "          max_arr=10,                    # maximum number of queued jobs on OM is 1000\n",
    "          mail_user=\"me@somewhere.com\",  # notification email\n",
    "          simg=\"pytorch.simg\")           # singulrity img on OM in $omsimg"
   ]
  },
  {
   "cell_type": "code",
   "execution_count": null,
   "metadata": {},
   "outputs": [],
   "source": [
    "!ls example_bundle_nbx/"
   ]
  },
  {
   "cell_type": "code",
   "execution_count": null,
   "metadata": {},
   "outputs": [],
   "source": [
    "from example_bundle_nbx.experiment import sweep_params as sweep\n",
    "\n",
    "print(len(sweep))\n",
    "print(sweep[0])\n",
    "print(sweep[1])\n",
    "print(sweep[4])"
   ]
  },
  {
   "cell_type": "code",
   "execution_count": null,
   "metadata": {},
   "outputs": [],
   "source": [
    "bundle.push()"
   ]
  },
  {
   "cell_type": "code",
   "execution_count": null,
   "metadata": {},
   "outputs": [],
   "source": [
    "bundle.run()"
   ]
  },
  {
   "cell_type": "code",
   "execution_count": null,
   "metadata": {},
   "outputs": [],
   "source": [
    "bundle.status()"
   ]
  },
  {
   "cell_type": "code",
   "execution_count": null,
   "metadata": {},
   "outputs": [],
   "source": [
    "bundle.pull_results()"
   ]
  },
  {
   "cell_type": "markdown",
   "metadata": {},
   "source": [
    "The results are now in the local folder:"
   ]
  },
  {
   "cell_type": "code",
   "execution_count": null,
   "metadata": {},
   "outputs": [],
   "source": [
    "!ls example_bundle_nbx"
   ]
  },
  {
   "cell_type": "code",
   "execution_count": null,
   "metadata": {},
   "outputs": [],
   "source": []
  }
 ],
 "metadata": {
  "kernelspec": {
   "display_name": "Python 3",
   "language": "python",
   "name": "python3"
  }
 },
 "nbformat": 4,
 "nbformat_minor": 2
}
