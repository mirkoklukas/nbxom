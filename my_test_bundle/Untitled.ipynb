{
 "cells": [
  {
   "cell_type": "code",
   "execution_count": null,
   "metadata": {},
   "outputs": [
    {
     "data": {
      "text/plain": [
       "run_nb_experiment"
      ]
     },
     "execution_count": null,
     "metadata": {},
     "output_type": "execute_result"
    }
   ],
   "source": [
    "include(\"./experiment.jl\")"
   ]
  },
  {
   "cell_type": "code",
   "execution_count": null,
   "metadata": {},
   "outputs": [
    {
     "name": "stdout",
     "output_type": "stream",
     "text": [
      "[1]\n",
      "1\n",
      "\n",
      "**nbx**\n",
      "Experiment finished.\n"
     ]
    }
   ],
   "source": [
    "t=2\n",
    "xargs = get_param(sweep_params, t)\n",
    "println(xargs)\n",
    "\n",
    "run_nb_experiment(xargs...; task_id=t, results_dir=\".\")\n",
    "\n"
   ]
  },
  {
   "cell_type": "code",
   "execution_count": null,
   "metadata": {},
   "outputs": [
    {
     "ename": "LoadError",
     "evalue": "syntax: extra token \"wrapper\" after end of expression",
     "output_type": "error",
     "traceback": [
      "syntax: extra token \"wrapper\" after end of expression",
      ""
     ]
    }
   ],
   "source": [
    "!julia wrapper.jl --jobid 1 --taskid 0 --resultsdir \".\""
   ]
  },
  {
   "cell_type": "code",
   "execution_count": null,
   "metadata": {},
   "outputs": [],
   "source": []
  }
 ],
 "metadata": {
  "kernelspec": {
   "display_name": "Julia 1.3.1",
   "language": "julia",
   "name": "julia-1.3"
  }
 },
 "nbformat": 4,
 "nbformat_minor": 2
}
